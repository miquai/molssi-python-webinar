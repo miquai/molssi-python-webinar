{
 "cells": [
  {
   "cell_type": "markdown",
   "metadata": {},
   "source": [
    "# HW 3 assignment\n",
    "\n",
    "Use arg parse to make another command line program\n",
    "\n",
    "recall homework from week 1\n",
    "\n",
    "take out all total energies\n",
    "\n",
    "write new file called e_tot.txt\n",
    "\n",
    "convert homework from week 1 to a command-line program\n",
    "\n",
    "## Extensions:\n",
    "\n",
    "accept wildcard pattern to be able to analyze multiple output files\n",
    "\n",
    "include optional arguments to make graphs!"
   ]
  },
  {
   "cell_type": "code",
   "execution_count": null,
   "metadata": {},
   "outputs": [],
   "source": []
  }
 ],
 "metadata": {
  "kernelspec": {
   "display_name": "Python 3",
   "language": "python",
   "name": "python3"
  },
  "language_info": {
   "codemirror_mode": {
    "name": "ipython",
    "version": 3
   },
   "file_extension": ".py",
   "mimetype": "text/x-python",
   "name": "python",
   "nbconvert_exporter": "python",
   "pygments_lexer": "ipython3",
   "version": "3.7.6"
  }
 },
 "nbformat": 4,
 "nbformat_minor": 4
}
