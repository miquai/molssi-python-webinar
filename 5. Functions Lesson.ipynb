{
 "cells": [
  {
   "cell_type": "markdown",
   "metadata": {},
   "source": [
    "# Writing Functions\n",
    "\n",
    "Functions are blocks of codes that perform particular tasks\n",
    "\n",
    "Each function should only perform ONE computational task\n",
    "\n",
    "They should accomplish that task in the SIMPLEST way\n",
    "\n",
    "Don't think about HOW you'll use the function in the code\n",
    "\n",
    "## Why use functions?\n",
    "\n",
    "They break up your code into bite-sized chunks\n",
    "\n",
    "They allow your code to be modular\n",
    "\n",
    "They make your code much easier to test!"
   ]
  },
  {
   "cell_type": "markdown",
   "metadata": {},
   "source": [
    "## General syntax for a function\n",
    "\n",
    "def function_name(parameters):\n",
    "\n",
    "    ** function code body **\n",
    "        \n",
    "    ** use parameters **\n",
    "    \n",
    "    return value_to_return"
   ]
  },
  {
   "cell_type": "code",
   "execution_count": 1,
   "metadata": {},
   "outputs": [
    {
     "name": "stdout",
     "output_type": "stream",
     "text": [
      "O to H1: 0.969\n",
      "O to H2: 0.969\n"
     ]
    }
   ],
   "source": [
    "# OUR GEOMETRY ANALYSIS CODE\n",
    "\n",
    "import numpy\n",
    "import os\n",
    "\n",
    "file_location = os.path.join('data','water.xyz')\n",
    "\n",
    "xyz_file = numpy.genfromtxt(fname=file_location, skip_header=2, dtype='unicode')\n",
    "\n",
    "symbols = xyz_file[:,0]\n",
    "coordinates = xyz_file[:,1:]\n",
    "coordinates = coordinates.astype(numpy.float)\n",
    "\n",
    "num_atoms = len(symbols)\n",
    "\n",
    "for num1 in range(0,num_atoms):\n",
    "    for num2 in range(0,num_atoms):\n",
    "        \n",
    "        if num1<num2:\n",
    "        \n",
    "            x_distance = coordinates[num1,0] - coordinates[num2,0]\n",
    "            y_distance = coordinates[num1,1] - coordinates[num2,1]\n",
    "            z_distance = coordinates[num1,2] - coordinates[num2,2]\n",
    "            atom_distance = numpy.sqrt(x_distance**2 + y_distance**2 + z_distance**2)\n",
    "\n",
    "            if atom_distance > 0 and atom_distance <= 1.5:\n",
    "                print(F'{symbols[num1]} to {symbols[num2]}: {atom_distance:.3f}') # .3f means print just 3 decimal places"
   ]
  },
  {
   "cell_type": "code",
   "execution_count": 8,
   "metadata": {},
   "outputs": [],
   "source": [
    "# Let's separate \"distance measurement\" into its own function\n",
    "\n",
    "def calculate_distance(atom1_coord, atom2_coord): # inputs are 2 coordinates\n",
    "    \n",
    "    x_distance = atom1_coord[0] - atom2_coord[0]\n",
    "    y_distance = atom1_coord[1] - atom2_coord[1]\n",
    "    z_distance = atom1_coord[2] - atom2_coord[2]\n",
    "    \n",
    "    atom_distance = numpy.sqrt(x_distance**2 + y_distance**2 + z_distance**2)\n",
    "    \n",
    "    return atom_distance"
   ]
  },
  {
   "cell_type": "code",
   "execution_count": 9,
   "metadata": {},
   "outputs": [
    {
     "name": "stdout",
     "output_type": "stream",
     "text": [
      "O to H1: 0.969\n",
      "O to H2: 0.969\n"
     ]
    }
   ],
   "source": [
    "# USE THIS FUNCTION WITHIN THE GEOMETRY ANALYSIS CODE\n",
    "\n",
    "import numpy\n",
    "import os\n",
    "\n",
    "file_location = os.path.join('data','water.xyz')\n",
    "\n",
    "xyz_file = numpy.genfromtxt(fname=file_location, skip_header=2, dtype='unicode')\n",
    "\n",
    "symbols = xyz_file[:,0]\n",
    "coordinates = xyz_file[:,1:]\n",
    "coordinates = coordinates.astype(numpy.float)\n",
    "\n",
    "num_atoms = len(symbols)\n",
    "\n",
    "for num1 in range(0,num_atoms):\n",
    "    for num2 in range(0,num_atoms):\n",
    "        \n",
    "        if num1<num2:\n",
    "            \n",
    "            atom_distance = calculate_distance(coordinates[num1], coordinates[num2]) # HERE'S OUR FUNCTION!\n",
    "\n",
    "            if atom_distance > 0 and atom_distance <= 1.5:\n",
    "                print(F'{symbols[num1]} to {symbols[num2]}: {atom_distance:.3f}') # .3f means print just 3 decimal places"
   ]
  },
  {
   "cell_type": "code",
   "execution_count": 10,
   "metadata": {},
   "outputs": [
    {
     "data": {
      "text/plain": [
       "1.0"
      ]
     },
     "execution_count": 10,
     "metadata": {},
     "output_type": "execute_result"
    }
   ],
   "source": [
    "# YOU CAN USE OUR FUNCTION TO CALCULATE ANY ARBITRARY THING\n",
    "\n",
    "calculate_distance([0,0,0],[0,0,1])"
   ]
  },
  {
   "cell_type": "code",
   "execution_count": 11,
   "metadata": {},
   "outputs": [],
   "source": [
    "# Let's make another function to do check if these things are bonds\n",
    "\n",
    "def bond_check(distance):\n",
    "    if distance > 0 and distance <= 1.5:\n",
    "        return True # \"True\" turned green becasue it's a Boolean operator\n",
    "    else:\n",
    "        return False"
   ]
  },
  {
   "cell_type": "code",
   "execution_count": 12,
   "metadata": {},
   "outputs": [
    {
     "data": {
      "text/plain": [
       "True"
      ]
     },
     "execution_count": 12,
     "metadata": {},
     "output_type": "execute_result"
    }
   ],
   "source": [
    "bond_check(1.2)"
   ]
  },
  {
   "cell_type": "code",
   "execution_count": 13,
   "metadata": {},
   "outputs": [
    {
     "data": {
      "text/plain": [
       "False"
      ]
     },
     "execution_count": 13,
     "metadata": {},
     "output_type": "execute_result"
    }
   ],
   "source": [
    "bond_check(2)"
   ]
  },
  {
   "cell_type": "code",
   "execution_count": 14,
   "metadata": {},
   "outputs": [
    {
     "data": {
      "text/plain": [
       "False"
      ]
     },
     "execution_count": 14,
     "metadata": {},
     "output_type": "execute_result"
    }
   ],
   "source": [
    "bond_check(-1.0)"
   ]
  },
  {
   "cell_type": "code",
   "execution_count": 21,
   "metadata": {},
   "outputs": [],
   "source": [
    "# Modify bond_check function to accept a minimum and maximum value\n",
    "\n",
    "def bond_check(distance, minimum_length, maximum_length):\n",
    "    if distance > minimum_length and distance <= maximum_length:\n",
    "        return True # \"True\" turned green becasue it's a Boolean operator\n",
    "    else:\n",
    "        return False"
   ]
  },
  {
   "cell_type": "code",
   "execution_count": 22,
   "metadata": {},
   "outputs": [
    {
     "data": {
      "text/plain": [
       "True"
      ]
     },
     "execution_count": 22,
     "metadata": {},
     "output_type": "execute_result"
    }
   ],
   "source": [
    "bond_check(1.2, 1, 1.3)"
   ]
  },
  {
   "cell_type": "code",
   "execution_count": 23,
   "metadata": {},
   "outputs": [
    {
     "data": {
      "text/plain": [
       "False"
      ]
     },
     "execution_count": 23,
     "metadata": {},
     "output_type": "execute_result"
    }
   ],
   "source": [
    "bond_check(1.2, 1, 1.1)"
   ]
  },
  {
   "cell_type": "code",
   "execution_count": 24,
   "metadata": {},
   "outputs": [
    {
     "ename": "TypeError",
     "evalue": "bond_check() missing 2 required positional arguments: 'minimum_length' and 'maximum_length'",
     "output_type": "error",
     "traceback": [
      "\u001b[0;31m---------------------------------------------------------------------------\u001b[0m",
      "\u001b[0;31mTypeError\u001b[0m                                 Traceback (most recent call last)",
      "\u001b[0;32m<ipython-input-24-f5ed7a7198f5>\u001b[0m in \u001b[0;36m<module>\u001b[0;34m\u001b[0m\n\u001b[0;32m----> 1\u001b[0;31m \u001b[0mbond_check\u001b[0m\u001b[0;34m(\u001b[0m\u001b[0;36m1.2\u001b[0m\u001b[0;34m)\u001b[0m\u001b[0;34m\u001b[0m\u001b[0;34m\u001b[0m\u001b[0m\n\u001b[0m",
      "\u001b[0;31mTypeError\u001b[0m: bond_check() missing 2 required positional arguments: 'minimum_length' and 'maximum_length'"
     ]
    }
   ],
   "source": [
    "bond_check(1.2) # Uh oh, this isn't going to work! You need 3 values!"
   ]
  },
  {
   "cell_type": "code",
   "execution_count": 25,
   "metadata": {},
   "outputs": [],
   "source": [
    "# Modify bond_check to have default values, in case user forgets to specify their own min/max\n",
    "\n",
    "def bond_check(distance, minimum_length=0, maximum_length=1.5): # These equal signs point to the default values!\n",
    "    if distance > minimum_length and distance <= maximum_length:\n",
    "        return True # \"True\" turned green becasue it's a Boolean operator\n",
    "    else:\n",
    "        return False"
   ]
  },
  {
   "cell_type": "code",
   "execution_count": 27,
   "metadata": {},
   "outputs": [
    {
     "data": {
      "text/plain": [
       "True"
      ]
     },
     "execution_count": 27,
     "metadata": {},
     "output_type": "execute_result"
    }
   ],
   "source": [
    "bond_check(1.2) # Now it works with just 1 value, because you have default values in the function!"
   ]
  },
  {
   "cell_type": "code",
   "execution_count": 28,
   "metadata": {},
   "outputs": [
    {
     "data": {
      "text/plain": [
       "False"
      ]
     },
     "execution_count": 28,
     "metadata": {},
     "output_type": "execute_result"
    }
   ],
   "source": [
    "# You can just specify the one that you DON'T want the default value\n",
    "\n",
    "bond_check(1.2, maximum_length=1)"
   ]
  },
  {
   "cell_type": "code",
   "execution_count": 29,
   "metadata": {},
   "outputs": [
    {
     "name": "stdout",
     "output_type": "stream",
     "text": [
      "Help on function genfromtxt in module numpy:\n",
      "\n",
      "genfromtxt(fname, dtype=<class 'float'>, comments='#', delimiter=None, skip_header=0, skip_footer=0, converters=None, missing_values=None, filling_values=None, usecols=None, names=None, excludelist=None, deletechars=\" !#$%&'()*+,-./:;<=>?@[\\\\]^{|}~\", replace_space='_', autostrip=False, case_sensitive=True, defaultfmt='f%i', unpack=None, usemask=False, loose=True, invalid_raise=True, max_rows=None, encoding='bytes')\n",
      "    Load data from a text file, with missing values handled as specified.\n",
      "    \n",
      "    Each line past the first `skip_header` lines is split at the `delimiter`\n",
      "    character, and characters following the `comments` character are discarded.\n",
      "    \n",
      "    Parameters\n",
      "    ----------\n",
      "    fname : file, str, pathlib.Path, list of str, generator\n",
      "        File, filename, list, or generator to read.  If the filename\n",
      "        extension is `.gz` or `.bz2`, the file is first decompressed. Note\n",
      "        that generators must return byte strings. The strings\n",
      "        in a list or produced by a generator are treated as lines.\n",
      "    dtype : dtype, optional\n",
      "        Data type of the resulting array.\n",
      "        If None, the dtypes will be determined by the contents of each\n",
      "        column, individually.\n",
      "    comments : str, optional\n",
      "        The character used to indicate the start of a comment.\n",
      "        All the characters occurring on a line after a comment are discarded\n",
      "    delimiter : str, int, or sequence, optional\n",
      "        The string used to separate values.  By default, any consecutive\n",
      "        whitespaces act as delimiter.  An integer or sequence of integers\n",
      "        can also be provided as width(s) of each field.\n",
      "    skiprows : int, optional\n",
      "        `skiprows` was removed in numpy 1.10. Please use `skip_header` instead.\n",
      "    skip_header : int, optional\n",
      "        The number of lines to skip at the beginning of the file.\n",
      "    skip_footer : int, optional\n",
      "        The number of lines to skip at the end of the file.\n",
      "    converters : variable, optional\n",
      "        The set of functions that convert the data of a column to a value.\n",
      "        The converters can also be used to provide a default value\n",
      "        for missing data: ``converters = {3: lambda s: float(s or 0)}``.\n",
      "    missing : variable, optional\n",
      "        `missing` was removed in numpy 1.10. Please use `missing_values`\n",
      "        instead.\n",
      "    missing_values : variable, optional\n",
      "        The set of strings corresponding to missing data.\n",
      "    filling_values : variable, optional\n",
      "        The set of values to be used as default when the data are missing.\n",
      "    usecols : sequence, optional\n",
      "        Which columns to read, with 0 being the first.  For example,\n",
      "        ``usecols = (1, 4, 5)`` will extract the 2nd, 5th and 6th columns.\n",
      "    names : {None, True, str, sequence}, optional\n",
      "        If `names` is True, the field names are read from the first line after\n",
      "        the first `skip_header` lines.  This line can optionally be proceeded\n",
      "        by a comment delimiter. If `names` is a sequence or a single-string of\n",
      "        comma-separated names, the names will be used to define the field names\n",
      "        in a structured dtype. If `names` is None, the names of the dtype\n",
      "        fields will be used, if any.\n",
      "    excludelist : sequence, optional\n",
      "        A list of names to exclude. This list is appended to the default list\n",
      "        ['return','file','print']. Excluded names are appended an underscore:\n",
      "        for example, `file` would become `file_`.\n",
      "    deletechars : str, optional\n",
      "        A string combining invalid characters that must be deleted from the\n",
      "        names.\n",
      "    defaultfmt : str, optional\n",
      "        A format used to define default field names, such as \"f%i\" or \"f_%02i\".\n",
      "    autostrip : bool, optional\n",
      "        Whether to automatically strip white spaces from the variables.\n",
      "    replace_space : char, optional\n",
      "        Character(s) used in replacement of white spaces in the variables\n",
      "        names. By default, use a '_'.\n",
      "    case_sensitive : {True, False, 'upper', 'lower'}, optional\n",
      "        If True, field names are case sensitive.\n",
      "        If False or 'upper', field names are converted to upper case.\n",
      "        If 'lower', field names are converted to lower case.\n",
      "    unpack : bool, optional\n",
      "        If True, the returned array is transposed, so that arguments may be\n",
      "        unpacked using ``x, y, z = loadtxt(...)``\n",
      "    usemask : bool, optional\n",
      "        If True, return a masked array.\n",
      "        If False, return a regular array.\n",
      "    loose : bool, optional\n",
      "        If True, do not raise errors for invalid values.\n",
      "    invalid_raise : bool, optional\n",
      "        If True, an exception is raised if an inconsistency is detected in the\n",
      "        number of columns.\n",
      "        If False, a warning is emitted and the offending lines are skipped.\n",
      "    max_rows : int,  optional\n",
      "        The maximum number of rows to read. Must not be used with skip_footer\n",
      "        at the same time.  If given, the value must be at least 1. Default is\n",
      "        to read the entire file.\n",
      "    \n",
      "        .. versionadded:: 1.10.0\n",
      "    encoding : str, optional\n",
      "        Encoding used to decode the inputfile. Does not apply when `fname` is\n",
      "        a file object.  The special value 'bytes' enables backward compatibility\n",
      "        workarounds that ensure that you receive byte arrays when possible\n",
      "        and passes latin1 encoded strings to converters. Override this value to\n",
      "        receive unicode arrays and pass strings as input to converters.  If set\n",
      "        to None the system default is used. The default value is 'bytes'.\n",
      "    \n",
      "        .. versionadded:: 1.14.0\n",
      "    \n",
      "    Returns\n",
      "    -------\n",
      "    out : ndarray\n",
      "        Data read from the text file. If `usemask` is True, this is a\n",
      "        masked array.\n",
      "    \n",
      "    See Also\n",
      "    --------\n",
      "    numpy.loadtxt : equivalent function when no data is missing.\n",
      "    \n",
      "    Notes\n",
      "    -----\n",
      "    * When spaces are used as delimiters, or when no delimiter has been given\n",
      "      as input, there should not be any missing data between two fields.\n",
      "    * When the variables are named (either by a flexible dtype or with `names`,\n",
      "      there must not be any header in the file (else a ValueError\n",
      "      exception is raised).\n",
      "    * Individual values are not stripped of spaces by default.\n",
      "      When using a custom converter, make sure the function does remove spaces.\n",
      "    \n",
      "    References\n",
      "    ----------\n",
      "    .. [1] NumPy User Guide, section `I/O with NumPy\n",
      "           <https://docs.scipy.org/doc/numpy/user/basics.io.genfromtxt.html>`_.\n",
      "    \n",
      "    Examples\n",
      "    ---------\n",
      "    >>> from io import StringIO\n",
      "    >>> import numpy as np\n",
      "    \n",
      "    Comma delimited file with mixed dtype\n",
      "    \n",
      "    >>> s = StringIO(u\"1,1.3,abcde\")\n",
      "    >>> data = np.genfromtxt(s, dtype=[('myint','i8'),('myfloat','f8'),\n",
      "    ... ('mystring','S5')], delimiter=\",\")\n",
      "    >>> data\n",
      "    array((1, 1.3, b'abcde'),\n",
      "          dtype=[('myint', '<i8'), ('myfloat', '<f8'), ('mystring', 'S5')])\n",
      "    \n",
      "    Using dtype = None\n",
      "    \n",
      "    >>> _ = s.seek(0) # needed for StringIO example only\n",
      "    >>> data = np.genfromtxt(s, dtype=None,\n",
      "    ... names = ['myint','myfloat','mystring'], delimiter=\",\")\n",
      "    >>> data\n",
      "    array((1, 1.3, b'abcde'),\n",
      "          dtype=[('myint', '<i8'), ('myfloat', '<f8'), ('mystring', 'S5')])\n",
      "    \n",
      "    Specifying dtype and names\n",
      "    \n",
      "    >>> _ = s.seek(0)\n",
      "    >>> data = np.genfromtxt(s, dtype=\"i8,f8,S5\",\n",
      "    ... names=['myint','myfloat','mystring'], delimiter=\",\")\n",
      "    >>> data\n",
      "    array((1, 1.3, b'abcde'),\n",
      "          dtype=[('myint', '<i8'), ('myfloat', '<f8'), ('mystring', 'S5')])\n",
      "    \n",
      "    An example with fixed-width columns\n",
      "    \n",
      "    >>> s = StringIO(u\"11.3abcde\")\n",
      "    >>> data = np.genfromtxt(s, dtype=None, names=['intvar','fltvar','strvar'],\n",
      "    ...     delimiter=[1,3,5])\n",
      "    >>> data\n",
      "    array((1, 1.3, b'abcde'),\n",
      "          dtype=[('intvar', '<i8'), ('fltvar', '<f8'), ('strvar', 'S5')])\n",
      "    \n",
      "    An example to show comments\n",
      "    \n",
      "    >>> f = StringIO('''\n",
      "    ... text,# of chars\n",
      "    ... hello world,11\n",
      "    ... numpy,5''')\n",
      "    >>> np.genfromtxt(f, dtype='S12,S12', delimiter=',')\n",
      "    array([(b'text', b''), (b'hello world', b'11'), (b'numpy', b'5')],\n",
      "      dtype=[('f0', 'S12'), ('f1', 'S12')])\n",
      "\n"
     ]
    }
   ],
   "source": [
    "# Remember, python is helpful!\n",
    "\n",
    "help(numpy.genfromtxt)"
   ]
  },
  {
   "cell_type": "code",
   "execution_count": 30,
   "metadata": {},
   "outputs": [
    {
     "name": "stdout",
     "output_type": "stream",
     "text": [
      "Help on function calculate_distance in module __main__:\n",
      "\n",
      "calculate_distance(atom1_coord, atom2_coord)\n",
      "\n"
     ]
    }
   ],
   "source": [
    "help(calculate_distance)"
   ]
  },
  {
   "cell_type": "code",
   "execution_count": 32,
   "metadata": {},
   "outputs": [],
   "source": [
    "# Oh no, there's nothing! We didn't write any help for our user! We didn't write any DOCUMENTATION!"
   ]
  },
  {
   "cell_type": "code",
   "execution_count": 33,
   "metadata": {},
   "outputs": [],
   "source": [
    "# Best practices in programming: any time you write a function, you should always write DOCUMENTATION!"
   ]
  },
  {
   "cell_type": "markdown",
   "metadata": {},
   "source": [
    "## How to write documentation for functions"
   ]
  },
  {
   "cell_type": "code",
   "execution_count": 37,
   "metadata": {},
   "outputs": [],
   "source": [
    "# Let's write documentation for \"calculate_distance\" function\n",
    "\n",
    "# Use 3 double quotes to enter HELP; this is called a \"doc string\"\n",
    "\n",
    "def calculate_distance(atom1_coord, atom2_coord): # inputs are 2 coordinates\n",
    "    \"\"\"\n",
    "    Calculates the distance between two points in 3D space\n",
    "    Inputs: coordinates of two atoms\n",
    "    Returns: distance between the atoms\n",
    "    \"\"\"\n",
    "    \n",
    "    x_distance = atom1_coord[0] - atom2_coord[0]\n",
    "    y_distance = atom1_coord[1] - atom2_coord[1]\n",
    "    z_distance = atom1_coord[2] - atom2_coord[2]\n",
    "    \n",
    "    atom_distance = numpy.sqrt(x_distance**2 + y_distance**2 + z_distance**2)\n",
    "    \n",
    "    return atom_distance"
   ]
  },
  {
   "cell_type": "code",
   "execution_count": 38,
   "metadata": {},
   "outputs": [
    {
     "name": "stdout",
     "output_type": "stream",
     "text": [
      "Help on function calculate_distance in module __main__:\n",
      "\n",
      "calculate_distance(atom1_coord, atom2_coord)\n",
      "    Calculates the distance between two points in 3D space.\n",
      "    Inputs: coordinates of two atoms\n",
      "    Returns: distance between the atoms\n",
      "\n"
     ]
    }
   ],
   "source": [
    "help(calculate_distance)"
   ]
  },
  {
   "cell_type": "code",
   "execution_count": 41,
   "metadata": {},
   "outputs": [
    {
     "name": "stdout",
     "output_type": "stream",
     "text": [
      "O to H1: 0.969\n",
      "O to H2: 0.969\n"
     ]
    }
   ],
   "source": [
    "# INCORPORATE BOTH FUNCTIONS\n",
    "\n",
    "import numpy\n",
    "import os\n",
    "\n",
    "file_location = os.path.join('data','water.xyz')\n",
    "\n",
    "xyz_file = numpy.genfromtxt(fname=file_location, skip_header=2, dtype='unicode')\n",
    "\n",
    "symbols = xyz_file[:,0]\n",
    "coordinates = xyz_file[:,1:]\n",
    "coordinates = coordinates.astype(numpy.float)\n",
    "\n",
    "num_atoms = len(symbols)\n",
    "\n",
    "for num1 in range(0,num_atoms):\n",
    "    for num2 in range(0,num_atoms):\n",
    "        \n",
    "        if num1<num2:\n",
    "            \n",
    "            atom_distance = calculate_distance(coordinates[num1], coordinates[num2]) # HERE'S OUR FUNCTION!\n",
    "\n",
    "            if bond_check(atom_distance) is True: # HERE'S OUR OTHER FUNCTION!\n",
    "                \n",
    "                print(F'{symbols[num1]} to {symbols[num2]}: {atom_distance:.3f}') # .3f means print just 3 decimal places"
   ]
  },
  {
   "cell_type": "code",
   "execution_count": 57,
   "metadata": {},
   "outputs": [],
   "source": [
    "# WRITE A FUNCTION TO OPEN AND PROCESS A FILE!\n",
    "# We do this a lot. It seems ripe for a function!\n",
    "\n",
    "# Write a function that opens and processes the xyz file.\n",
    "# Name your function open_xyz\n",
    "# Function only takes one parameter — name of the xyz file\n",
    "# Function returns list of symbols, coordinates\n",
    "# return variable1, variable2\n",
    "\n",
    "def open_xyz(file_path):\n",
    "    \n",
    "    \"\"\"\n",
    "    This function opens an xyz file, separates the coordinates and the symbols and recasts the coordinates as floats\n",
    "    Input: a file_path\n",
    "    Returns 2 things: symbols, coordinates\n",
    "    \"\"\"\n",
    "    \n",
    "    xyz_file = numpy.genfromtxt(fname=file_path, skip_header=2, dtype='unicode')\n",
    "    \n",
    "    symbols = xyz_file[:,0]\n",
    "    \n",
    "    coordinates = xyz_file[:,1:]\n",
    "    \n",
    "    coordinates = coordinates.astype(numpy.float)\n",
    "    \n",
    "    return symbols, coordinates"
   ]
  },
  {
   "cell_type": "code",
   "execution_count": 58,
   "metadata": {},
   "outputs": [
    {
     "data": {
      "text/plain": [
       "(array(['O', 'H1', 'H2'], dtype='<U9'),\n",
       " array([[ 0.      , -0.007156,  0.965491],\n",
       "        [-0.      ,  0.001486, -0.003471],\n",
       "        [ 0.      ,  0.931026,  1.207929]]))"
      ]
     },
     "execution_count": 58,
     "metadata": {},
     "output_type": "execute_result"
    }
   ],
   "source": [
    "open_xyz('data/water.xyz')"
   ]
  },
  {
   "cell_type": "code",
   "execution_count": 59,
   "metadata": {},
   "outputs": [
    {
     "name": "stdout",
     "output_type": "stream",
     "text": [
      "['O' 'H1' 'H2']\n"
     ]
    }
   ],
   "source": [
    "print(symbols)"
   ]
  },
  {
   "cell_type": "code",
   "execution_count": 60,
   "metadata": {},
   "outputs": [
    {
     "name": "stdout",
     "output_type": "stream",
     "text": [
      "[[ 0.       -0.007156  0.965491]\n",
      " [-0.        0.001486 -0.003471]\n",
      " [ 0.        0.931026  1.207929]]\n"
     ]
    }
   ],
   "source": [
    "print(coordinates)"
   ]
  },
  {
   "cell_type": "code",
   "execution_count": 61,
   "metadata": {},
   "outputs": [
    {
     "name": "stdout",
     "output_type": "stream",
     "text": [
      "Help on function open_xyz in module __main__:\n",
      "\n",
      "open_xyz(file_path)\n",
      "    This function opens an xyz file, separates the coordinates and the symbols and recasts the coordinates as floats\n",
      "    Input: a file_path\n",
      "    Returns: symbols, coordinates\n",
      "\n"
     ]
    }
   ],
   "source": [
    "help(open_xyz)"
   ]
  },
  {
   "cell_type": "code",
   "execution_count": 65,
   "metadata": {},
   "outputs": [
    {
     "name": "stdout",
     "output_type": "stream",
     "text": [
      "O to H1: 0.969\n",
      "O to H2: 0.969\n"
     ]
    }
   ],
   "source": [
    "# INCORPORATE ALL FUNCTIONS\n",
    "\n",
    "import numpy\n",
    "import os\n",
    "\n",
    "file_location = os.path.join('data','water.xyz')\n",
    "\n",
    "symbols, coordinates = open_xyz(file_location) # HERE'S OUR \"open_xyz\" FUNCTION!\n",
    "\n",
    "num_atoms = len(symbols)\n",
    "\n",
    "for num1 in range(0,num_atoms):\n",
    "    \n",
    "    for num2 in range(0,num_atoms):\n",
    "        \n",
    "        if num1<num2:\n",
    "            \n",
    "            atom_distance = calculate_distance(coordinates[num1], coordinates[num2]) # HERE'S OUR \"atom_distance\" FUNCTION!\n",
    "\n",
    "            if bond_check(atom_distance) is True: # HERE'S OUR \"bond_check\" FUNCTION!\n",
    "                \n",
    "                print(F'{symbols[num1]} to {symbols[num2]}: {atom_distance:.3f}') # .3f means print just 3 decimal places"
   ]
  },
  {
   "cell_type": "code",
   "execution_count": 1,
   "metadata": {},
   "outputs": [
    {
     "name": "stdout",
     "output_type": "stream",
     "text": [
      "O to H1: 0.969\n",
      "O to H2: 0.969\n"
     ]
    }
   ],
   "source": [
    "# COLLECT ALL CODE IN ONE BOX\n",
    "\n",
    "\n",
    "\n",
    "# start with imports\n",
    "\n",
    "import numpy\n",
    "import os\n",
    "\n",
    "\n",
    "\n",
    "# next: functions\n",
    "\n",
    "def open_xyz(file_path):\n",
    "    \n",
    "    \"\"\"\n",
    "    This function opens an xyz file, separates the coordinates and the symbols and recasts the coordinates as floats\n",
    "    Input: a file_path\n",
    "    Returns 2 things: symbols, coordinates\n",
    "    \"\"\"\n",
    "    \n",
    "    xyz_file = numpy.genfromtxt(fname=file_path, skip_header=2, dtype='unicode')\n",
    "    \n",
    "    symbols = xyz_file[:,0]\n",
    "    \n",
    "    coordinates = xyz_file[:,1:]\n",
    "    \n",
    "    coordinates = coordinates.astype(numpy.float)\n",
    "    \n",
    "    return symbols, coordinates\n",
    "\n",
    "def calculate_distance(atom1_coord, atom2_coord): # inputs are 2 coordinates\n",
    "    \n",
    "    x_distance = atom1_coord[0] - atom2_coord[0]\n",
    "    y_distance = atom1_coord[1] - atom2_coord[1]\n",
    "    z_distance = atom1_coord[2] - atom2_coord[2]\n",
    "    \n",
    "    atom_distance = numpy.sqrt(x_distance**2 + y_distance**2 + z_distance**2)\n",
    "    \n",
    "    return atom_distance\n",
    "\n",
    "def bond_check(distance, minimum_length=0, maximum_length=1.5): # These equal signs point to the default values!\n",
    "    if distance > minimum_length and distance <= maximum_length:\n",
    "        return True # \"True\" turned green becasue it's a Boolean operator\n",
    "    else:\n",
    "        return False\n",
    "\n",
    "    \n",
    "    \n",
    "# finally: geometry analysis code\n",
    "\n",
    "file_location = os.path.join('data','water.xyz')\n",
    "\n",
    "symbols, coordinates = open_xyz(file_location) # HERE'S OUR \"open_xyz\" FUNCTION!\n",
    "\n",
    "num_atoms = len(symbols)\n",
    "\n",
    "for num1 in range(0,num_atoms):\n",
    "    \n",
    "    for num2 in range(0,num_atoms):\n",
    "        \n",
    "        if num1<num2:\n",
    "            \n",
    "            atom_distance = calculate_distance(coordinates[num1], coordinates[num2]) # HERE'S OUR \"atom_distance\" FUNCTION!\n",
    "\n",
    "            if bond_check(atom_distance) is True: # HERE'S OUR \"bond_check\" FUNCTION!\n",
    "                \n",
    "                print(F'{symbols[num1]} to {symbols[num2]}: {atom_distance:.3f}') # .3f means print just 3 decimal places"
   ]
  },
  {
   "cell_type": "code",
   "execution_count": null,
   "metadata": {},
   "outputs": [],
   "source": []
  }
 ],
 "metadata": {
  "kernelspec": {
   "display_name": "Python 3",
   "language": "python",
   "name": "python3"
  },
  "language_info": {
   "codemirror_mode": {
    "name": "ipython",
    "version": 3
   },
   "file_extension": ".py",
   "mimetype": "text/x-python",
   "name": "python",
   "nbconvert_exporter": "python",
   "pygments_lexer": "ipython3",
   "version": "3.7.6"
  }
 },
 "nbformat": 4,
 "nbformat_minor": 4
}
