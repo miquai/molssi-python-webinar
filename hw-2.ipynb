{
 "cells": [
  {
   "cell_type": "markdown",
   "metadata": {},
   "source": [
    "# HW 2"
   ]
  },
  {
   "cell_type": "code",
   "execution_count": 1,
   "metadata": {},
   "outputs": [],
   "source": [
    "# Make a path to the file\n",
    "\n",
    "import os\n",
    "\n",
    "water_file = os.path.join('data', 'water.xyz')"
   ]
  },
  {
   "cell_type": "code",
   "execution_count": 2,
   "metadata": {},
   "outputs": [
    {
     "name": "stdout",
     "output_type": "stream",
     "text": [
      "[['O' '0.000000' '-0.007156' '0.965491']\n",
      " ['H1' '-0.000000' '0.001486' '-0.003471']\n",
      " ['H2' '0.000000' '0.931026' '1.207929']]\n"
     ]
    }
   ],
   "source": [
    "# Read in the file\n",
    "\n",
    "import numpy\n",
    "\n",
    "water = numpy.genfromtxt(fname=water_file, skip_header=2, dtype='unicode')\n",
    "\n",
    "print(water)"
   ]
  },
  {
   "cell_type": "code",
   "execution_count": 3,
   "metadata": {},
   "outputs": [
    {
     "name": "stdout",
     "output_type": "stream",
     "text": [
      "[[ 0.       -0.007156  0.965491]\n",
      " [-0.        0.001486 -0.003471]\n",
      " [ 0.        0.931026  1.207929]]\n"
     ]
    }
   ],
   "source": [
    "# Slice just the data, recast as float\n",
    "\n",
    "data = water[:, 1:]\n",
    "\n",
    "data = data.astype(numpy.float)\n",
    "\n",
    "print(data)"
   ]
  },
  {
   "cell_type": "code",
   "execution_count": 4,
   "metadata": {},
   "outputs": [
    {
     "name": "stdout",
     "output_type": "stream",
     "text": [
      "['O' 'H1' 'H2']\n"
     ]
    }
   ],
   "source": [
    "# Slice just the atom names\n",
    "\n",
    "atom_names = water[:,0]\n",
    "\n",
    "print(atom_names)"
   ]
  },
  {
   "cell_type": "code",
   "execution_count": 5,
   "metadata": {},
   "outputs": [
    {
     "name": "stdout",
     "output_type": "stream",
     "text": [
      "[ 0. -0.  0.]\n",
      "[-0.007156  0.001486  0.931026]\n",
      "[ 0.965491 -0.003471  1.207929]\n"
     ]
    }
   ],
   "source": [
    "# Slice just the X positions, Y positions, Z positions\n",
    "\n",
    "x = data[:,0]\n",
    "\n",
    "y = data[:,1]\n",
    "\n",
    "z = data[:,2]\n",
    "\n",
    "print(x)\n",
    "print(y)\n",
    "print(z)"
   ]
  },
  {
   "cell_type": "code",
   "execution_count": 6,
   "metadata": {},
   "outputs": [
    {
     "name": "stdout",
     "output_type": "stream",
     "text": [
      "O to O = 0.0\n",
      "O to H1 = 0.9690005374652793\n",
      "O to H2 = 0.9690003348647513\n",
      "H1 to O = 0.9690005374652793\n",
      "H1 to H1 = 0.0\n",
      "H1 to H2 = 1.52693633514957\n",
      "H2 to O = 0.9690003348647513\n",
      "H2 to H1 = 1.52693633514957\n",
      "H2 to H2 = 0.0\n"
     ]
    }
   ],
   "source": [
    "# Calculate the distances between each pair of atoms\n",
    "\n",
    "for atom1 in range(0, len(atom_names)):\n",
    "    \n",
    "    for atom2 in range(0, len(atom_names)):\n",
    "        \n",
    "        distance = numpy.sqrt(((x[atom1]-x[atom2])**2 + (y[atom1]-y[atom2])**2 + (z[atom1]-z[atom2])**2))\n",
    "        \n",
    "        print(F'{atom_names[atom1]} to {atom_names[atom2]} = {distance}')"
   ]
  },
  {
   "cell_type": "code",
   "execution_count": 24,
   "metadata": {},
   "outputs": [
    {
     "name": "stdout",
     "output_type": "stream",
     "text": [
      "The non-zero atomic distances are:\n",
      "O to H1 = 0.9690005374652793\n",
      "O to H2 = 0.9690003348647513\n",
      "H1 to O = 0.9690005374652793\n",
      "H1 to H2 = 1.52693633514957\n",
      "H2 to O = 0.9690003348647513\n",
      "H2 to H1 = 1.52693633514957\n"
     ]
    }
   ],
   "source": [
    "# Calculate the distances, but eliminate zeroes\n",
    "\n",
    "print(F'The non-zero atomic distances are:')\n",
    "\n",
    "for atom1 in range(0, len(atom_names)):\n",
    "    \n",
    "    for atom2 in range(0, len(atom_names)):\n",
    "        \n",
    "        if atom1 != atom2: # This will eliminate self-self (zero) distances\n",
    "        \n",
    "            distance = numpy.sqrt(((x[atom1]-x[atom2])**2 + (y[atom1]-y[atom2])**2 + (z[atom1]-z[atom2])**2))\n",
    "        \n",
    "            print(F'{atom_names[atom1]} to {atom_names[atom2]} = {distance}')"
   ]
  },
  {
   "cell_type": "code",
   "execution_count": 25,
   "metadata": {},
   "outputs": [
    {
     "name": "stdout",
     "output_type": "stream",
     "text": [
      "The atomic distances are:\n",
      "O to H1 = 0.9690005374652793\n",
      "O to H2 = 0.9690003348647513\n",
      "H1 to H2 = 1.52693633514957\n"
     ]
    }
   ],
   "source": [
    "# Calculate the distances, but eliminate zeroes and duplicates\n",
    "\n",
    "print(F'The atomic distances are:')\n",
    "\n",
    "for atom1 in range(0, len(atom_names)):\n",
    "    \n",
    "    for atom2 in range(0, len(atom_names)):\n",
    "        \n",
    "        if atom1 < atom2: # This will eliminate self-self (zero) distances AND duplicates\n",
    "        \n",
    "                distance = numpy.sqrt(((x[atom1]-x[atom2])**2 + (y[atom1]-y[atom2])**2 + (z[atom1]-z[atom2])**2))\n",
    "        \n",
    "                print(F'{atom_names[atom1]} to {atom_names[atom2]} = {distance}')"
   ]
  },
  {
   "cell_type": "code",
   "execution_count": 57,
   "metadata": {},
   "outputs": [
    {
     "name": "stdout",
     "output_type": "stream",
     "text": [
      "Bond: O to H1 = 0.9690005374652793\n",
      "Bond: O to H2 = 0.9690003348647513\n",
      "Not a bond: H1 to H2 = 1.52693633514957\n"
     ]
    }
   ],
   "source": [
    "# Calculate the distances, but eliminate zeroes and duplicates, and set a criteria for bond cutoff\n",
    "\n",
    "for atom1 in range(0, len(atom_names)):\n",
    "    \n",
    "    for atom2 in range(0, len(atom_names)):\n",
    "        \n",
    "        if atom1 < atom2: # This will eliminate self-self (zero) distances AND duplicates\n",
    "        \n",
    "                distance = numpy.sqrt(((x[atom1]-x[atom2])**2 + (y[atom1]-y[atom2])**2 + (z[atom1]-z[atom2])**2))\n",
    "            \n",
    "                # Set a criteron for O-H bonds\n",
    "                if atom_names[atom1]=='O' and (atom_names[atom2]=='H1' or atom_names[atom2]=='H2') and distance < 0.97:\n",
    "                    \n",
    "                    print(F'Bond: {atom_names[atom1]} to {atom_names[atom2]} = {distance}')\n",
    "                    \n",
    "                elif atom_names[atom1]=='O' and (atom_names[atom2]=='H1' or atom_names[atom2]=='H2') and distance > 0.97:\n",
    "                    \n",
    "                    print(F'Not a bond: {atom_names[atom1]} to {atom_names[atom2]} = {distance}')\n",
    "                \n",
    "                # Set a criteron for H-H bonds\n",
    "                if atom_names[atom1]=='H1' and atom_names[atom2]=='H2' and distance < 0.66:\n",
    "                    \n",
    "                    print(F'Bond: {atom_names[atom1]} to {atom_names[atom2]} = {distance}')\n",
    "                    \n",
    "                elif atom_names[atom1]=='H1' and atom_names[atom2]=='H2' and distance > 0.66:\n",
    "                    \n",
    "                    print(F'Not a bond: {atom_names[atom1]} to {atom_names[atom2]} = {distance}')"
   ]
  }
 ],
 "metadata": {
  "kernelspec": {
   "display_name": "Python 3",
   "language": "python",
   "name": "python3"
  },
  "language_info": {
   "codemirror_mode": {
    "name": "ipython",
    "version": 3
   },
   "file_extension": ".py",
   "mimetype": "text/x-python",
   "name": "python",
   "nbconvert_exporter": "python",
   "pygments_lexer": "ipython3",
   "version": "3.7.6"
  }
 },
 "nbformat": 4,
 "nbformat_minor": 4
}
