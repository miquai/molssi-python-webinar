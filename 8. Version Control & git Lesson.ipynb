{
 "cells": [
  {
   "cell_type": "markdown",
   "metadata": {},
   "source": [
    "# Version Control & git Lesson\n",
    "\n",
    "git is a tool for version control\n",
    "\n",
    "Keep a record of our project and how it's changed and who's contributed to it\n",
    "\n",
    "You can easily go back in time and look at previous versions\n",
    "\n",
    "You can use git locally without using github\n",
    "\n",
    "git = software\n",
    "\n",
    "github = service that hosts code // also see: bitbucket\n",
    "\n",
    "## Configuring git the first time\n",
    "\n",
    "git config --global user.name \"Mike Wong\"\n",
    "\n",
    "git config --global user.email \"miquai@uw.edu\"\n",
    "\n",
    "git config --global core.editor \"atom --wait\"\n",
    "\n",
    "## Using git\n",
    "\n",
    "git status\n",
    "\n",
    "If we get \"fatal: not a git repository (or any of the parent directories): .git\",\n",
    "\n",
    "then we are not in a repository followed by git\n",
    "\n",
    "## How to start a project with git\n",
    "\n",
    "When not in a git repository, type: git init\n",
    "\n",
    "(only do this once per project)\n",
    "\n",
    "Output looks like: Initialized empty Git repository in /Users/miquai/Desktop/cms-workshop/.git/\n",
    "\n",
    "Git will only track files that we want it to track\n",
    "\n",
    "To track a file, write: \"git add <file>\"\n",
    "    \n",
    "  "
   ]
  },
  {
   "cell_type": "code",
   "execution_count": null,
   "metadata": {},
   "outputs": [],
   "source": []
  }
 ],
 "metadata": {
  "kernelspec": {
   "display_name": "Python 3",
   "language": "python",
   "name": "python3"
  },
  "language_info": {
   "codemirror_mode": {
    "name": "ipython",
    "version": 3
   },
   "file_extension": ".py",
   "mimetype": "text/x-python",
   "name": "python",
   "nbconvert_exporter": "python",
   "pygments_lexer": "ipython3",
   "version": "3.7.6"
  }
 },
 "nbformat": 4,
 "nbformat_minor": 4
}
