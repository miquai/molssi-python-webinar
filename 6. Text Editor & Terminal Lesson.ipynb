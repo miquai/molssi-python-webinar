{
 "cells": [
  {
   "cell_type": "markdown",
   "metadata": {},
   "source": [
    "# Text Editor & Terminal Lesson\n",
    "\n",
    "Jupyter notebook is great environment for testing and development\n",
    "\n",
    "We are now moving to a command line executable script\n",
    "\n",
    "Better for running code on a supercomputer or many many times\n",
    "\n",
    "Best text editor = ATOM\n",
    "\n",
    "But we'll use the Jupyter text editor\n",
    "\n",
    "Make \"geom_analysis.py\" file. Needs to be .py so it knows it's a python script!\n",
    "\n",
    "Run it from a terminal window\n",
    "\n",
    "Can do so from Terminal on Mac\n",
    "\n",
    "Or can do it from Jupyter terminal, which we will do\n",
    "\n",
    "Navigate to cms-workshop directory\n",
    "\n",
    "ls to see \"geom_analysis.py\"\n",
    "\n",
    "Run the script by typing \"python geom_analysis.py\"\n",
    "\n",
    "Bad! \"water.xyz\" is hard-coded into code\n",
    "\n",
    "Can we make our code where, on the command line, we can specify the file to read, so that we don't have to go into the code and change \"water.xyz\"?\n",
    "\n",
    "This will make it easier for other people to use our code\n",
    "\n",
    "These types of user inputs are called arguments\n",
    "\n",
    "We need the argparse library\n",
    "\n",
    "Add \"import argparse\"\n",
    "\n",
    "Tell code to use argparse\n",
    "\n",
    "Right after defininig bond_check, add:\n",
    "\n",
    "parser = argparse.ArgumentParser(description='The script analyzes a user-given xyz file and outputs the length of the bonds.') # This says let's use argparse!\n",
    "\n",
    "parser.add_argument('xyz_file', help=\"The file path for the xyz file to analyze.\") # This adds a new argument. If you want to add more, just make another one of these. Can even make arguments optional, with default values (see online lessons).\n",
    "\n",
    "args = parser.pars_args # This collects all the arguments we added above.\n",
    "\n",
    "We need to tell python what the main part of our code is\n",
    "\n",
    "To do this, after the last function definition, write\n",
    "\n",
    "if __name__ == \"__main__\":\n",
    "\n",
    "and gotta indent everything afterwards!\n",
    "\n",
    "These are the things that move you from being a beginner to being someone who can be part of a collaborative code team!"
   ]
  },
  {
   "cell_type": "code",
   "execution_count": null,
   "metadata": {},
   "outputs": [],
   "source": []
  }
 ],
 "metadata": {
  "kernelspec": {
   "display_name": "Python 3",
   "language": "python",
   "name": "python3"
  },
  "language_info": {
   "codemirror_mode": {
    "name": "ipython",
    "version": 3
   },
   "file_extension": ".py",
   "mimetype": "text/x-python",
   "name": "python",
   "nbconvert_exporter": "python",
   "pygments_lexer": "ipython3",
   "version": "3.7.6"
  }
 },
 "nbformat": 4,
 "nbformat_minor": 4
}
