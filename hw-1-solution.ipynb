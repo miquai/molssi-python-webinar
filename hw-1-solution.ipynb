{
 "cells": [
  {
   "cell_type": "markdown",
   "metadata": {},
   "source": [
    "# Solution for Week 1 Homework"
   ]
  },
  {
   "cell_type": "code",
   "execution_count": 7,
   "metadata": {},
   "outputs": [],
   "source": [
    "# STEPS:\n",
    "\n",
    "import os\n",
    "\n",
    "# Tell the computer where the file is\n",
    "    \n",
    "filename = os.path.join('data', '03_Prod.mdout')\n",
    "\n",
    "# Open the file for reading\n",
    "\n",
    "f = open(filename, 'r')\n",
    "\n",
    "# Read the data\n",
    "\n",
    "data = f.readlines() # Reads file and makes a list composed of lines of the file\n",
    "\n",
    "# Close the file\n",
    "    \n",
    "f.close()\n",
    "\n",
    "# Open a file for writing\n",
    "\n",
    "f_write = open('Etot.txt', 'w+')\n",
    "\n",
    "# Loop through lines in the file\n",
    "\n",
    "for line in data:\n",
    "    \n",
    "    # Get information from the lines\n",
    "    \n",
    "    split_line = line.split() # Splits line based on white space\n",
    "    #print(split_line)\n",
    "\n",
    "# Get information from the lines & write that info to the new file\n",
    "\n",
    "    if 'Etot' in line:\n",
    "        #print(split_line[2])\n",
    "        f_write.write(f'{split_line[2]}\\n')\n",
    "        \n",
    "f_write.close()"
   ]
  },
  {
   "cell_type": "code",
   "execution_count": null,
   "metadata": {},
   "outputs": [],
   "source": []
  }
 ],
 "metadata": {
  "kernelspec": {
   "display_name": "Python 3",
   "language": "python",
   "name": "python3"
  },
  "language_info": {
   "codemirror_mode": {
    "name": "ipython",
    "version": 3
   },
   "file_extension": ".py",
   "mimetype": "text/x-python",
   "name": "python",
   "nbconvert_exporter": "python",
   "pygments_lexer": "ipython3",
   "version": "3.7.6"
  }
 },
 "nbformat": 4,
 "nbformat_minor": 4
}
