{
 "cells": [
  {
   "cell_type": "markdown",
   "metadata": {},
   "source": [
    "# Week 2 Homework\n",
    "\n",
    "xyz file: coordinates of molecules\n",
    "\n",
    "file \"water.xyz\"\n",
    "\n",
    "first line = number of atoms in molecule\n",
    "\n",
    "second line = title line\n",
    "\n",
    "next lines = [atomic symbol] [x coord] [y coord] [z coord]"
   ]
  },
  {
   "cell_type": "markdown",
   "metadata": {},
   "source": [
    "## Assignment\n",
    "\n",
    "Write code to read in the information from the xyz file and measure the distance between all the atoms.\n",
    "\n",
    "Distance formula: $$ D = [(x_2-x_1)^2 + (y_2-y_1)^2 + (z_2-z_1)^2]^{1/2} $$"
   ]
  },
  {
   "cell_type": "code",
   "execution_count": 5,
   "metadata": {},
   "outputs": [],
   "source": [
    "# In python, to sqare stuff, use **\n",
    "\n",
    "sample_number = 3**2"
   ]
  },
  {
   "cell_type": "code",
   "execution_count": 4,
   "metadata": {},
   "outputs": [
    {
     "data": {
      "text/plain": [
       "3.0"
      ]
     },
     "execution_count": 4,
     "metadata": {},
     "output_type": "execute_result"
    }
   ],
   "source": [
    "# Take the square root with \"numpy.sqrt\"\n",
    "\n",
    "import numpy\n",
    "\n",
    "numpy.sqrt(sample_number)"
   ]
  },
  {
   "cell_type": "markdown",
   "metadata": {},
   "source": [
    "## This is what I want your output to look like:\n",
    "\n",
    "[atom name] to [atom name] = [distance]\n",
    "\n",
    "for every possible distance:\n",
    "\n",
    "O to O: 0.0\n",
    "\n",
    "O to H1: 0.969\n",
    "\n",
    "O to H2: 0.969\n",
    "\n",
    "H1 to O: 0.969\n",
    "\n",
    "H1 to H1: 0.0\n",
    "\n",
    "H1 to H2: 1.527\n",
    "\n",
    "H2 to H2: 0.0\n",
    "\n",
    "H2 to O: 0.969\n",
    "\n",
    "H2 to H1: 1.527"
   ]
  },
  {
   "cell_type": "markdown",
   "metadata": {},
   "source": [
    "## Hint\n",
    "\n",
    "You may need a nested for loop\n",
    "\n",
    "You can use either read-in technique we've learned so far"
   ]
  },
  {
   "cell_type": "markdown",
   "metadata": {},
   "source": [
    "## Additional Project Extenstions\n",
    "\n",
    "a) Got some duplicates in the above. Perhaps don't need to measure both of them. Update code to not measure duplicates.\n",
    "\n",
    "b) Set criteria for being a bond. H1 doesn't bond to H2, for instance. Set a cutoff for a bond. Only print the bonds."
   ]
  },
  {
   "cell_type": "code",
   "execution_count": null,
   "metadata": {},
   "outputs": [],
   "source": []
  }
 ],
 "metadata": {
  "kernelspec": {
   "display_name": "Python 3",
   "language": "python",
   "name": "python3"
  },
  "language_info": {
   "codemirror_mode": {
    "name": "ipython",
    "version": 3
   },
   "file_extension": ".py",
   "mimetype": "text/x-python",
   "name": "python",
   "nbconvert_exporter": "python",
   "pygments_lexer": "ipython3",
   "version": "3.7.6"
  }
 },
 "nbformat": 4,
 "nbformat_minor": 4
}
