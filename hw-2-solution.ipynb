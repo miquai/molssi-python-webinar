{
 "cells": [
  {
   "cell_type": "markdown",
   "metadata": {},
   "source": [
    "# HW2 (geometry analysis) homework solution"
   ]
  },
  {
   "cell_type": "code",
   "execution_count": 1,
   "metadata": {},
   "outputs": [],
   "source": [
    "import numpy\n",
    "import os"
   ]
  },
  {
   "cell_type": "code",
   "execution_count": 2,
   "metadata": {},
   "outputs": [
    {
     "name": "stdout",
     "output_type": "stream",
     "text": [
      "data/water.xyz\n"
     ]
    }
   ],
   "source": [
    "file_location = os.path.join('data','water.xyz')\n",
    "print(file_location)"
   ]
  },
  {
   "cell_type": "code",
   "execution_count": 4,
   "metadata": {},
   "outputs": [],
   "source": [
    "xyz_file = numpy.genfromtxt(fname=file_location, skip_header=2, dtype='unicode')"
   ]
  },
  {
   "cell_type": "code",
   "execution_count": 5,
   "metadata": {},
   "outputs": [
    {
     "name": "stdout",
     "output_type": "stream",
     "text": [
      "[['O' '0.000000' '-0.007156' '0.965491']\n",
      " ['H1' '-0.000000' '0.001486' '-0.003471']\n",
      " ['H2' '0.000000' '0.931026' '1.207929']]\n"
     ]
    }
   ],
   "source": [
    "print(xyz_file)"
   ]
  },
  {
   "cell_type": "code",
   "execution_count": 6,
   "metadata": {},
   "outputs": [],
   "source": [
    "symbols = xyz_file[:,0]\n",
    "coordinates = xyz_file[:,1:]\n",
    "coordinates = coordinates.astype(numpy.float)"
   ]
  },
  {
   "cell_type": "code",
   "execution_count": 7,
   "metadata": {},
   "outputs": [
    {
     "name": "stdout",
     "output_type": "stream",
     "text": [
      "['O' 'H1' 'H2']\n"
     ]
    }
   ],
   "source": [
    "print(symbols)"
   ]
  },
  {
   "cell_type": "code",
   "execution_count": 8,
   "metadata": {},
   "outputs": [
    {
     "name": "stdout",
     "output_type": "stream",
     "text": [
      "[[ 0.       -0.007156  0.965491]\n",
      " [-0.        0.001486 -0.003471]\n",
      " [ 0.        0.931026  1.207929]]\n"
     ]
    }
   ],
   "source": [
    "print(coordinates)"
   ]
  },
  {
   "cell_type": "markdown",
   "metadata": {},
   "source": [
    "$$ distance = [(x_1 - x_2)^2 + (y_1 - y_2)^2 + (z_1 - z_2)]^\\frac{1}{2}) $$"
   ]
  },
  {
   "cell_type": "code",
   "execution_count": 11,
   "metadata": {},
   "outputs": [
    {
     "name": "stdout",
     "output_type": "stream",
     "text": [
      "O to O: 0.000\n",
      "O to H1: 0.969\n",
      "O to H2: 0.969\n",
      "H1 to O: 0.969\n",
      "H1 to H1: 0.000\n",
      "H1 to H2: 1.527\n",
      "H2 to O: 0.969\n",
      "H2 to H1: 1.527\n",
      "H2 to H2: 0.000\n"
     ]
    }
   ],
   "source": [
    "num_atoms = len(symbols)\n",
    "\n",
    "for num1 in range(0,num_atoms):\n",
    "    for num2 in range(0,num_atoms):\n",
    "        x_distance = coordinates[num1,0] - coordinates[num2,0]\n",
    "        y_distance = coordinates[num1,1] - coordinates[num2,1]\n",
    "        z_distance = coordinates[num1,2] - coordinates[num2,2]\n",
    "        atom_distance = numpy.sqrt(x_distance**2 + y_distance**2 + z_distance**2)\n",
    "        print(F'{symbols[num1]} to {symbols[num2]}: {atom_distance:.3f}') # .3f means print just 3 decimal places"
   ]
  },
  {
   "cell_type": "code",
   "execution_count": 12,
   "metadata": {},
   "outputs": [
    {
     "name": "stdout",
     "output_type": "stream",
     "text": [
      "O to O: 0.000\n",
      "O to H1: 0.969\n",
      "O to H2: 0.969\n",
      "H1 to O: 0.969\n",
      "H1 to H1: 0.000\n",
      "H2 to O: 0.969\n",
      "H2 to H2: 0.000\n"
     ]
    }
   ],
   "source": [
    "num_atoms = len(symbols)\n",
    "\n",
    "for num1 in range(0,num_atoms):\n",
    "    for num2 in range(0,num_atoms):\n",
    "        x_distance = coordinates[num1,0] - coordinates[num2,0]\n",
    "        y_distance = coordinates[num1,1] - coordinates[num2,1]\n",
    "        z_distance = coordinates[num1,2] - coordinates[num2,2]\n",
    "        atom_distance = numpy.sqrt(x_distance**2 + y_distance**2 + z_distance**2)\n",
    "        \n",
    "        if atom_distance <= 1.5:\n",
    "            print(F'{symbols[num1]} to {symbols[num2]}: {atom_distance:.3f}') # .3f means print just 3 decimal places"
   ]
  },
  {
   "cell_type": "code",
   "execution_count": 14,
   "metadata": {},
   "outputs": [
    {
     "name": "stdout",
     "output_type": "stream",
     "text": [
      "O to H1: 0.969\n",
      "O to H2: 0.969\n",
      "H1 to O: 0.969\n",
      "H2 to O: 0.969\n"
     ]
    }
   ],
   "source": [
    "num_atoms = len(symbols)\n",
    "\n",
    "for num1 in range(0,num_atoms):\n",
    "    for num2 in range(0,num_atoms):\n",
    "        x_distance = coordinates[num1,0] - coordinates[num2,0]\n",
    "        y_distance = coordinates[num1,1] - coordinates[num2,1]\n",
    "        z_distance = coordinates[num1,2] - coordinates[num2,2]\n",
    "        atom_distance = numpy.sqrt(x_distance**2 + y_distance**2 + z_distance**2)\n",
    "        \n",
    "        if atom_distance > 0 and atom_distance <= 1.5:\n",
    "            print(F'{symbols[num1]} to {symbols[num2]}: {atom_distance:.3f}') # .3f means print just 3 decimal places"
   ]
  },
  {
   "cell_type": "code",
   "execution_count": 15,
   "metadata": {},
   "outputs": [
    {
     "name": "stdout",
     "output_type": "stream",
     "text": [
      "O to H1: 0.969\n",
      "O to H2: 0.969\n"
     ]
    }
   ],
   "source": [
    "num_atoms = len(symbols)\n",
    "\n",
    "for num1 in range(0,num_atoms):\n",
    "    for num2 in range(0,num_atoms):\n",
    "        \n",
    "        if num1<num2:\n",
    "        \n",
    "            x_distance = coordinates[num1,0] - coordinates[num2,0]\n",
    "            y_distance = coordinates[num1,1] - coordinates[num2,1]\n",
    "            z_distance = coordinates[num1,2] - coordinates[num2,2]\n",
    "            atom_distance = numpy.sqrt(x_distance**2 + y_distance**2 + z_distance**2)\n",
    "\n",
    "            if atom_distance > 0 and atom_distance <= 1.5:\n",
    "                print(F'{symbols[num1]} to {symbols[num2]}: {atom_distance:.3f}') # .3f means print just 3 decimal places"
   ]
  },
  {
   "cell_type": "code",
   "execution_count": 17,
   "metadata": {},
   "outputs": [
    {
     "name": "stdout",
     "output_type": "stream",
     "text": [
      "O to H1: 0.969\n",
      "O to H2: 0.969\n"
     ]
    }
   ],
   "source": [
    "# COLLECT IT ALL IN ONE BOX\n",
    "\n",
    "import numpy\n",
    "import os\n",
    "\n",
    "file_location = os.path.join('data','water.xyz')\n",
    "\n",
    "xyz_file = numpy.genfromtxt(fname=file_location, skip_header=2, dtype='unicode')\n",
    "\n",
    "symbols = xyz_file[:,0]\n",
    "coordinates = xyz_file[:,1:]\n",
    "coordinates = coordinates.astype(numpy.float)\n",
    "\n",
    "num_atoms = len(symbols)\n",
    "\n",
    "for num1 in range(0,num_atoms):\n",
    "    for num2 in range(0,num_atoms):\n",
    "        \n",
    "        if num1<num2:\n",
    "        \n",
    "            x_distance = coordinates[num1,0] - coordinates[num2,0]\n",
    "            y_distance = coordinates[num1,1] - coordinates[num2,1]\n",
    "            z_distance = coordinates[num1,2] - coordinates[num2,2]\n",
    "            atom_distance = numpy.sqrt(x_distance**2 + y_distance**2 + z_distance**2)\n",
    "\n",
    "            if atom_distance > 0 and atom_distance <= 1.5:\n",
    "                print(F'{symbols[num1]} to {symbols[num2]}: {atom_distance:.3f}') # .3f means print just 3 decimal places"
   ]
  },
  {
   "cell_type": "code",
   "execution_count": null,
   "metadata": {},
   "outputs": [],
   "source": []
  }
 ],
 "metadata": {
  "kernelspec": {
   "display_name": "Python 3",
   "language": "python",
   "name": "python3"
  },
  "language_info": {
   "codemirror_mode": {
    "name": "ipython",
    "version": 3
   },
   "file_extension": ".py",
   "mimetype": "text/x-python",
   "name": "python",
   "nbconvert_exporter": "python",
   "pygments_lexer": "ipython3",
   "version": "3.7.6"
  }
 },
 "nbformat": 4,
 "nbformat_minor": 4
}
