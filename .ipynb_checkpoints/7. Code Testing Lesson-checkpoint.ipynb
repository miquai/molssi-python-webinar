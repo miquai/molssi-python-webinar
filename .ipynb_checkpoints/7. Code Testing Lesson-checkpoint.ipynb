{
 "cells": [
  {
   "cell_type": "markdown",
   "metadata": {},
   "source": [
    "# Code Testing Lesson"
   ]
  },
  {
   "cell_type": "markdown",
   "metadata": {},
   "source": [
    "## Unit Testing\n",
    "\n",
    "Test the different parts of your code to make sure they behave the way you want them to\n",
    "\n",
    "Use libarary \"pytest\" to do that\n",
    "\n",
    "Pytest will look for files and functions that begin with \"test\" and it will see if those functions run\n",
    "\n",
    "If they don't result in an error, \"pass\"\n",
    "\n",
    "If they result in an error, \"fail\"\n",
    "\n"
   ]
  },
  {
   "cell_type": "markdown",
   "metadata": {},
   "source": [
    "### Made a new file that tests functions in geometry_analysis.py\n",
    "\n",
    "test_geometry_analysis.py\n",
    "\n",
    "to run in Command Line, just type \"pytest\" into the terminal\n",
    "\n",
    "or \"pytest -v\" for verbose"
   ]
  },
  {
   "cell_type": "code",
   "execution_count": null,
   "metadata": {},
   "outputs": [],
   "source": []
  }
 ],
 "metadata": {
  "kernelspec": {
   "display_name": "Python 3",
   "language": "python",
   "name": "python3"
  },
  "language_info": {
   "codemirror_mode": {
    "name": "ipython",
    "version": 3
   },
   "file_extension": ".py",
   "mimetype": "text/x-python",
   "name": "python",
   "nbconvert_exporter": "python",
   "pygments_lexer": "ipython3",
   "version": "3.7.6"
  }
 },
 "nbformat": 4,
 "nbformat_minor": 4
}
